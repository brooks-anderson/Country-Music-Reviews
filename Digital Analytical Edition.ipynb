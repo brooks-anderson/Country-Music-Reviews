{
 "cells": [
  {
   "cell_type": "markdown",
   "id": "13406439",
   "metadata": {},
   "source": [
    "    Brooks Anderson  \n",
    "    gcu6hc@virginia.edu   \n",
    "    DS 5001 \n",
    "    20 March 22"
   ]
  },
  {
   "cell_type": "markdown",
   "id": "774c204d",
   "metadata": {},
   "source": [
    "# Country Music Reviews\n",
    "### *Digital Analytical Edition*\n",
    "---"
   ]
  },
  {
   "cell_type": "markdown",
   "id": "a6330874",
   "metadata": {},
   "source": [
    "## Introduction\n",
    "In this notebook, I aggregate the source files to create a Digital Analytical Edition (DAE). Source files were scraped from [rocksbackpage.com](rocksbackpage.com) using `RBP_search_scraper.py` and `RBP_article_scraper.py`.  \n",
    "\n",
    "The DAE contains the following tables:  \n",
    "+ `LIB.csv`    - Metadata for each article.\n",
    "+ `CORPUS.csv` - Aggregated text from source files. Indexed by Ordered Hierarchy of Content Object (OHCO) structure.\n",
    "+ `VOCAB.csv`  - Linguistic features and statistics for words in `CORPUS.csv`. Stop words removed.\n",
    "+ `BOW.csv`    - Bag-of-words representation of `CORPUS.csv` with stop words removed."
   ]
  },
  {
   "cell_type": "markdown",
   "id": "f24cbd2d",
   "metadata": {},
   "source": [
    "## Libraries & Set Up"
   ]
  },
  {
   "cell_type": "code",
   "execution_count": 2,
   "id": "0fa0e938",
   "metadata": {},
   "outputs": [],
   "source": [
    "import pandas as pd\n",
    "import nltk\n",
    "import spacy"
   ]
  },
  {
   "cell_type": "code",
   "execution_count": null,
   "id": "af2eedd5",
   "metadata": {},
   "outputs": [],
   "source": []
  }
 ],
 "metadata": {
  "kernelspec": {
   "display_name": "Python 3 (ipykernel)",
   "language": "python",
   "name": "python3"
  },
  "language_info": {
   "codemirror_mode": {
    "name": "ipython",
    "version": 3
   },
   "file_extension": ".py",
   "mimetype": "text/x-python",
   "name": "python",
   "nbconvert_exporter": "python",
   "pygments_lexer": "ipython3",
   "version": "3.9.7"
  }
 },
 "nbformat": 4,
 "nbformat_minor": 5
}
