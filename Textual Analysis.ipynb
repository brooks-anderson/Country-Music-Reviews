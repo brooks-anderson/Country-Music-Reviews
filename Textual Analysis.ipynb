{
 "cells": [
  {
   "cell_type": "markdown",
   "id": "49f23120",
   "metadata": {},
   "source": [
    "# Country & Soul\n",
    "### *Analyzing Trends in American Music Journalism from 1960 to Present*\n",
    "---"
   ]
  },
  {
   "cell_type": "markdown",
   "id": "10301fd4",
   "metadata": {},
   "source": [
    "# Textual Analysis \n",
    "#### Table of Contents\n",
    "1. [Introduction](#introduction)\n",
    "2. [Vector Space Modeling](#paragraph1)\n",
    "3. [Clustering](#paragraph2)\n",
    "4. [Principal Component Analysis](#paragraph3)\n",
    "5. [Topic Modeling](#paragraph4)\n",
    "6. [Word Embeddings](#paragraph5)\n",
    "7. [Sentiment Analysis](#paragraph6)"
   ]
  },
  {
   "cell_type": "markdown",
   "id": "9fb3a988",
   "metadata": {},
   "source": [
    "## Introduction<a name=\"introduction\"></a>\n",
    "In this notebook, I apply several analytical techniques to the corpus of music reviews. I employ vector space models (VSM), clustering methods, Principal Component Analysis (PCA), topic models, word embeddings, and semantic analysis.\n",
    "\n",
    "To begin, I read in the tables that I created in *`Digital Analytical Edition.ipynb`*."
   ]
  },
  {
   "cell_type": "code",
   "execution_count": 1,
   "id": "5be8786f",
   "metadata": {},
   "outputs": [],
   "source": [
    "# Libraries\n",
    "import pandas as pd\n",
    "import numpy as np\n",
    "\n",
    "from gensim.models import word2vec"
   ]
  },
  {
   "cell_type": "code",
   "execution_count": 2,
   "id": "ec69f3bc",
   "metadata": {},
   "outputs": [],
   "source": [
    "# define OHCO structure\n",
    "OHCO = ['article_id', 'para_id', 'sent_id', 'token_id']\n",
    "\n",
    "# import data\n",
    "path = \"./data/\"\n",
    "\n",
    "\n",
    "LIB = pd.read_csv(path+\"LIB.csv\")\n",
    "LIB.set_index('article_id', inplace = True)\n",
    "\n",
    "VOCAB = pd.read_csv(path+\"VOCAB.csv\")\n",
    "VOCAB.set_index('term_str', inplace = True)\n",
    "\n",
    "CORPUS = pd.read_csv(path+\"CORPUS.csv\")\n",
    "CORPUS.set_index(OHCO, inplace = True)"
   ]
  },
  {
   "cell_type": "markdown",
   "id": "ba8a418f",
   "metadata": {},
   "source": [
    "---\n",
    "## Vector Space Modeling<a name=\"paragraph1\"></a>"
   ]
  },
  {
   "cell_type": "markdown",
   "id": "c01dbce0",
   "metadata": {},
   "source": [
    "---\n",
    "## Clustering<a name=\"paragraph2\"></a>"
   ]
  },
  {
   "cell_type": "markdown",
   "id": "319b3819",
   "metadata": {},
   "source": [
    "---\n",
    "## Principal Component Analysis<a name=\"paragraph3\"></a>"
   ]
  },
  {
   "cell_type": "markdown",
   "id": "f0ae1b21",
   "metadata": {},
   "source": [
    "---\n",
    "## Topic Modeling<a name=\"paragraph4\"></a>"
   ]
  },
  {
   "cell_type": "markdown",
   "id": "a39a4588",
   "metadata": {},
   "source": [
    "---\n",
    "## Word Embeddings<a name=\"paragraph5\"></a>"
   ]
  },
  {
   "cell_type": "markdown",
   "id": "9e02417a",
   "metadata": {},
   "source": [
    "---\n",
    "## Semtiment Analysis<a name=\"paragraph6\"></a>"
   ]
  }
 ],
 "metadata": {
  "kernelspec": {
   "display_name": "Python 3 (ipykernel)",
   "language": "python",
   "name": "python3"
  },
  "language_info": {
   "codemirror_mode": {
    "name": "ipython",
    "version": 3
   },
   "file_extension": ".py",
   "mimetype": "text/x-python",
   "name": "python",
   "nbconvert_exporter": "python",
   "pygments_lexer": "ipython3",
   "version": "3.9.7"
  }
 },
 "nbformat": 4,
 "nbformat_minor": 5
}
